{
  "nbformat": 4,
  "nbformat_minor": 0,
  "metadata": {
    "colab": {
      "provenance": [],
      "authorship_tag": "ABX9TyMyA90W4SSh3juMNCFaLPkk",
      "include_colab_link": true
    },
    "kernelspec": {
      "name": "python3",
      "display_name": "Python 3"
    },
    "language_info": {
      "name": "python"
    }
  },
  "cells": [
    {
      "cell_type": "markdown",
      "metadata": {
        "id": "view-in-github",
        "colab_type": "text"
      },
      "source": [
        "<a href=\"https://colab.research.google.com/github/farrelrassya/Social-Network-Ads-with-KNN/blob/main/Classification_Social_Network_Ads_with_KNN.ipynb\" target=\"_parent\"><img src=\"https://colab.research.google.com/assets/colab-badge.svg\" alt=\"Open In Colab\"/></a>"
      ]
    },
    {
      "cell_type": "code",
      "execution_count": 1,
      "metadata": {
        "id": "BksWcHn6n-WE"
      },
      "outputs": [],
      "source": [
        "# Linear algebraimport numpy as np\n",
        "import numpy as np\n",
        "# Data processing\n",
        "import pandas as pd\n",
        "#Libraries for visualisation\n",
        "import seaborn as sns\n",
        "import matplotlib.pyplot as plt\n",
        "#Feature Scaling\n",
        "from sklearn.preprocessing import StandardScaler\n",
        "#Train and Test split\n",
        "from sklearn.model_selection import train_test_split\n",
        "#Classification\n",
        "from sklearn.neighbors import KNeighborsClassifier\n",
        "from sklearn.svm import SVC\n",
        "#Hyperparameter Tuning\n",
        "from sklearn.model_selection import GridSearchCV\n",
        "#Evaluation\n",
        "from sklearn.metrics import confusion_matrix, accuracy_score, classification_report,recall_score,precision_score"
      ]
    },
    {
      "cell_type": "code",
      "source": [
        "df = pd.read_csv('Social_Network_Ads.csv')\n",
        "df"
      ],
      "metadata": {
        "colab": {
          "base_uri": "https://localhost:8080/",
          "height": 424
        },
        "id": "dqhLmTfMoHH-",
        "outputId": "38c20943-15bb-4596-bb51-66fbd9dd024e"
      },
      "execution_count": 4,
      "outputs": [
        {
          "output_type": "execute_result",
          "data": {
            "text/plain": [
              "      User ID  Gender  Age  EstimatedSalary  Purchased\n",
              "0    15624510    Male   19            19000          0\n",
              "1    15810944    Male   35            20000          0\n",
              "2    15668575  Female   26            43000          0\n",
              "3    15603246  Female   27            57000          0\n",
              "4    15804002    Male   19            76000          0\n",
              "..        ...     ...  ...              ...        ...\n",
              "395  15691863  Female   46            41000          1\n",
              "396  15706071    Male   51            23000          1\n",
              "397  15654296  Female   50            20000          1\n",
              "398  15755018    Male   36            33000          0\n",
              "399  15594041  Female   49            36000          1\n",
              "\n",
              "[400 rows x 5 columns]"
            ],
            "text/html": [
              "\n",
              "  <div id=\"df-50ad643d-1fd2-4f08-a140-39f746b88f5a\" class=\"colab-df-container\">\n",
              "    <div>\n",
              "<style scoped>\n",
              "    .dataframe tbody tr th:only-of-type {\n",
              "        vertical-align: middle;\n",
              "    }\n",
              "\n",
              "    .dataframe tbody tr th {\n",
              "        vertical-align: top;\n",
              "    }\n",
              "\n",
              "    .dataframe thead th {\n",
              "        text-align: right;\n",
              "    }\n",
              "</style>\n",
              "<table border=\"1\" class=\"dataframe\">\n",
              "  <thead>\n",
              "    <tr style=\"text-align: right;\">\n",
              "      <th></th>\n",
              "      <th>User ID</th>\n",
              "      <th>Gender</th>\n",
              "      <th>Age</th>\n",
              "      <th>EstimatedSalary</th>\n",
              "      <th>Purchased</th>\n",
              "    </tr>\n",
              "  </thead>\n",
              "  <tbody>\n",
              "    <tr>\n",
              "      <th>0</th>\n",
              "      <td>15624510</td>\n",
              "      <td>Male</td>\n",
              "      <td>19</td>\n",
              "      <td>19000</td>\n",
              "      <td>0</td>\n",
              "    </tr>\n",
              "    <tr>\n",
              "      <th>1</th>\n",
              "      <td>15810944</td>\n",
              "      <td>Male</td>\n",
              "      <td>35</td>\n",
              "      <td>20000</td>\n",
              "      <td>0</td>\n",
              "    </tr>\n",
              "    <tr>\n",
              "      <th>2</th>\n",
              "      <td>15668575</td>\n",
              "      <td>Female</td>\n",
              "      <td>26</td>\n",
              "      <td>43000</td>\n",
              "      <td>0</td>\n",
              "    </tr>\n",
              "    <tr>\n",
              "      <th>3</th>\n",
              "      <td>15603246</td>\n",
              "      <td>Female</td>\n",
              "      <td>27</td>\n",
              "      <td>57000</td>\n",
              "      <td>0</td>\n",
              "    </tr>\n",
              "    <tr>\n",
              "      <th>4</th>\n",
              "      <td>15804002</td>\n",
              "      <td>Male</td>\n",
              "      <td>19</td>\n",
              "      <td>76000</td>\n",
              "      <td>0</td>\n",
              "    </tr>\n",
              "    <tr>\n",
              "      <th>...</th>\n",
              "      <td>...</td>\n",
              "      <td>...</td>\n",
              "      <td>...</td>\n",
              "      <td>...</td>\n",
              "      <td>...</td>\n",
              "    </tr>\n",
              "    <tr>\n",
              "      <th>395</th>\n",
              "      <td>15691863</td>\n",
              "      <td>Female</td>\n",
              "      <td>46</td>\n",
              "      <td>41000</td>\n",
              "      <td>1</td>\n",
              "    </tr>\n",
              "    <tr>\n",
              "      <th>396</th>\n",
              "      <td>15706071</td>\n",
              "      <td>Male</td>\n",
              "      <td>51</td>\n",
              "      <td>23000</td>\n",
              "      <td>1</td>\n",
              "    </tr>\n",
              "    <tr>\n",
              "      <th>397</th>\n",
              "      <td>15654296</td>\n",
              "      <td>Female</td>\n",
              "      <td>50</td>\n",
              "      <td>20000</td>\n",
              "      <td>1</td>\n",
              "    </tr>\n",
              "    <tr>\n",
              "      <th>398</th>\n",
              "      <td>15755018</td>\n",
              "      <td>Male</td>\n",
              "      <td>36</td>\n",
              "      <td>33000</td>\n",
              "      <td>0</td>\n",
              "    </tr>\n",
              "    <tr>\n",
              "      <th>399</th>\n",
              "      <td>15594041</td>\n",
              "      <td>Female</td>\n",
              "      <td>49</td>\n",
              "      <td>36000</td>\n",
              "      <td>1</td>\n",
              "    </tr>\n",
              "  </tbody>\n",
              "</table>\n",
              "<p>400 rows × 5 columns</p>\n",
              "</div>\n",
              "    <div class=\"colab-df-buttons\">\n",
              "\n",
              "  <div class=\"colab-df-container\">\n",
              "    <button class=\"colab-df-convert\" onclick=\"convertToInteractive('df-50ad643d-1fd2-4f08-a140-39f746b88f5a')\"\n",
              "            title=\"Convert this dataframe to an interactive table.\"\n",
              "            style=\"display:none;\">\n",
              "\n",
              "  <svg xmlns=\"http://www.w3.org/2000/svg\" height=\"24px\" viewBox=\"0 -960 960 960\">\n",
              "    <path d=\"M120-120v-720h720v720H120Zm60-500h600v-160H180v160Zm220 220h160v-160H400v160Zm0 220h160v-160H400v160ZM180-400h160v-160H180v160Zm440 0h160v-160H620v160ZM180-180h160v-160H180v160Zm440 0h160v-160H620v160Z\"/>\n",
              "  </svg>\n",
              "    </button>\n",
              "\n",
              "  <style>\n",
              "    .colab-df-container {\n",
              "      display:flex;\n",
              "      gap: 12px;\n",
              "    }\n",
              "\n",
              "    .colab-df-convert {\n",
              "      background-color: #E8F0FE;\n",
              "      border: none;\n",
              "      border-radius: 50%;\n",
              "      cursor: pointer;\n",
              "      display: none;\n",
              "      fill: #1967D2;\n",
              "      height: 32px;\n",
              "      padding: 0 0 0 0;\n",
              "      width: 32px;\n",
              "    }\n",
              "\n",
              "    .colab-df-convert:hover {\n",
              "      background-color: #E2EBFA;\n",
              "      box-shadow: 0px 1px 2px rgba(60, 64, 67, 0.3), 0px 1px 3px 1px rgba(60, 64, 67, 0.15);\n",
              "      fill: #174EA6;\n",
              "    }\n",
              "\n",
              "    .colab-df-buttons div {\n",
              "      margin-bottom: 4px;\n",
              "    }\n",
              "\n",
              "    [theme=dark] .colab-df-convert {\n",
              "      background-color: #3B4455;\n",
              "      fill: #D2E3FC;\n",
              "    }\n",
              "\n",
              "    [theme=dark] .colab-df-convert:hover {\n",
              "      background-color: #434B5C;\n",
              "      box-shadow: 0px 1px 3px 1px rgba(0, 0, 0, 0.15);\n",
              "      filter: drop-shadow(0px 1px 2px rgba(0, 0, 0, 0.3));\n",
              "      fill: #FFFFFF;\n",
              "    }\n",
              "  </style>\n",
              "\n",
              "    <script>\n",
              "      const buttonEl =\n",
              "        document.querySelector('#df-50ad643d-1fd2-4f08-a140-39f746b88f5a button.colab-df-convert');\n",
              "      buttonEl.style.display =\n",
              "        google.colab.kernel.accessAllowed ? 'block' : 'none';\n",
              "\n",
              "      async function convertToInteractive(key) {\n",
              "        const element = document.querySelector('#df-50ad643d-1fd2-4f08-a140-39f746b88f5a');\n",
              "        const dataTable =\n",
              "          await google.colab.kernel.invokeFunction('convertToInteractive',\n",
              "                                                    [key], {});\n",
              "        if (!dataTable) return;\n",
              "\n",
              "        const docLinkHtml = 'Like what you see? Visit the ' +\n",
              "          '<a target=\"_blank\" href=https://colab.research.google.com/notebooks/data_table.ipynb>data table notebook</a>'\n",
              "          + ' to learn more about interactive tables.';\n",
              "        element.innerHTML = '';\n",
              "        dataTable['output_type'] = 'display_data';\n",
              "        await google.colab.output.renderOutput(dataTable, element);\n",
              "        const docLink = document.createElement('div');\n",
              "        docLink.innerHTML = docLinkHtml;\n",
              "        element.appendChild(docLink);\n",
              "      }\n",
              "    </script>\n",
              "  </div>\n",
              "\n",
              "\n",
              "<div id=\"df-52ca43ef-7ce5-4fc3-9c23-8bd4aa58ec55\">\n",
              "  <button class=\"colab-df-quickchart\" onclick=\"quickchart('df-52ca43ef-7ce5-4fc3-9c23-8bd4aa58ec55')\"\n",
              "            title=\"Suggest charts.\"\n",
              "            style=\"display:none;\">\n",
              "\n",
              "<svg xmlns=\"http://www.w3.org/2000/svg\" height=\"24px\"viewBox=\"0 0 24 24\"\n",
              "     width=\"24px\">\n",
              "    <g>\n",
              "        <path d=\"M19 3H5c-1.1 0-2 .9-2 2v14c0 1.1.9 2 2 2h14c1.1 0 2-.9 2-2V5c0-1.1-.9-2-2-2zM9 17H7v-7h2v7zm4 0h-2V7h2v10zm4 0h-2v-4h2v4z\"/>\n",
              "    </g>\n",
              "</svg>\n",
              "  </button>\n",
              "\n",
              "<style>\n",
              "  .colab-df-quickchart {\n",
              "      --bg-color: #E8F0FE;\n",
              "      --fill-color: #1967D2;\n",
              "      --hover-bg-color: #E2EBFA;\n",
              "      --hover-fill-color: #174EA6;\n",
              "      --disabled-fill-color: #AAA;\n",
              "      --disabled-bg-color: #DDD;\n",
              "  }\n",
              "\n",
              "  [theme=dark] .colab-df-quickchart {\n",
              "      --bg-color: #3B4455;\n",
              "      --fill-color: #D2E3FC;\n",
              "      --hover-bg-color: #434B5C;\n",
              "      --hover-fill-color: #FFFFFF;\n",
              "      --disabled-bg-color: #3B4455;\n",
              "      --disabled-fill-color: #666;\n",
              "  }\n",
              "\n",
              "  .colab-df-quickchart {\n",
              "    background-color: var(--bg-color);\n",
              "    border: none;\n",
              "    border-radius: 50%;\n",
              "    cursor: pointer;\n",
              "    display: none;\n",
              "    fill: var(--fill-color);\n",
              "    height: 32px;\n",
              "    padding: 0;\n",
              "    width: 32px;\n",
              "  }\n",
              "\n",
              "  .colab-df-quickchart:hover {\n",
              "    background-color: var(--hover-bg-color);\n",
              "    box-shadow: 0 1px 2px rgba(60, 64, 67, 0.3), 0 1px 3px 1px rgba(60, 64, 67, 0.15);\n",
              "    fill: var(--button-hover-fill-color);\n",
              "  }\n",
              "\n",
              "  .colab-df-quickchart-complete:disabled,\n",
              "  .colab-df-quickchart-complete:disabled:hover {\n",
              "    background-color: var(--disabled-bg-color);\n",
              "    fill: var(--disabled-fill-color);\n",
              "    box-shadow: none;\n",
              "  }\n",
              "\n",
              "  .colab-df-spinner {\n",
              "    border: 2px solid var(--fill-color);\n",
              "    border-color: transparent;\n",
              "    border-bottom-color: var(--fill-color);\n",
              "    animation:\n",
              "      spin 1s steps(1) infinite;\n",
              "  }\n",
              "\n",
              "  @keyframes spin {\n",
              "    0% {\n",
              "      border-color: transparent;\n",
              "      border-bottom-color: var(--fill-color);\n",
              "      border-left-color: var(--fill-color);\n",
              "    }\n",
              "    20% {\n",
              "      border-color: transparent;\n",
              "      border-left-color: var(--fill-color);\n",
              "      border-top-color: var(--fill-color);\n",
              "    }\n",
              "    30% {\n",
              "      border-color: transparent;\n",
              "      border-left-color: var(--fill-color);\n",
              "      border-top-color: var(--fill-color);\n",
              "      border-right-color: var(--fill-color);\n",
              "    }\n",
              "    40% {\n",
              "      border-color: transparent;\n",
              "      border-right-color: var(--fill-color);\n",
              "      border-top-color: var(--fill-color);\n",
              "    }\n",
              "    60% {\n",
              "      border-color: transparent;\n",
              "      border-right-color: var(--fill-color);\n",
              "    }\n",
              "    80% {\n",
              "      border-color: transparent;\n",
              "      border-right-color: var(--fill-color);\n",
              "      border-bottom-color: var(--fill-color);\n",
              "    }\n",
              "    90% {\n",
              "      border-color: transparent;\n",
              "      border-bottom-color: var(--fill-color);\n",
              "    }\n",
              "  }\n",
              "</style>\n",
              "\n",
              "  <script>\n",
              "    async function quickchart(key) {\n",
              "      const quickchartButtonEl =\n",
              "        document.querySelector('#' + key + ' button');\n",
              "      quickchartButtonEl.disabled = true;  // To prevent multiple clicks.\n",
              "      quickchartButtonEl.classList.add('colab-df-spinner');\n",
              "      try {\n",
              "        const charts = await google.colab.kernel.invokeFunction(\n",
              "            'suggestCharts', [key], {});\n",
              "      } catch (error) {\n",
              "        console.error('Error during call to suggestCharts:', error);\n",
              "      }\n",
              "      quickchartButtonEl.classList.remove('colab-df-spinner');\n",
              "      quickchartButtonEl.classList.add('colab-df-quickchart-complete');\n",
              "    }\n",
              "    (() => {\n",
              "      let quickchartButtonEl =\n",
              "        document.querySelector('#df-52ca43ef-7ce5-4fc3-9c23-8bd4aa58ec55 button');\n",
              "      quickchartButtonEl.style.display =\n",
              "        google.colab.kernel.accessAllowed ? 'block' : 'none';\n",
              "    })();\n",
              "  </script>\n",
              "</div>\n",
              "    </div>\n",
              "  </div>\n"
            ]
          },
          "metadata": {},
          "execution_count": 4
        }
      ]
    },
    {
      "cell_type": "markdown",
      "source": [
        "1. It prints the number of rows in the DataFrame.\n",
        "2. It prints the number of columns in the DataFrame.\n",
        "3. It prints the names of the columns in the DataFrame."
      ],
      "metadata": {
        "id": "93LqacDSoohc"
      }
    },
    {
      "cell_type": "code",
      "source": [
        "print(\"Number of rows is = \", df.shape[0], \" \\nNumber of columns is = \" , df.shape[1])\n",
        "df.columns"
      ],
      "metadata": {
        "colab": {
          "base_uri": "https://localhost:8080/"
        },
        "id": "_tkIQy4GoJz4",
        "outputId": "e57f5de8-8286-425f-b81f-18f19f792b0e"
      },
      "execution_count": 5,
      "outputs": [
        {
          "output_type": "stream",
          "name": "stdout",
          "text": [
            "Number of rows is =  400  \n",
            "Number of columns is =  5\n"
          ]
        },
        {
          "output_type": "execute_result",
          "data": {
            "text/plain": [
              "Index(['User ID', 'Gender', 'Age', 'EstimatedSalary', 'Purchased'], dtype='object')"
            ]
          },
          "metadata": {},
          "execution_count": 5
        }
      ]
    },
    {
      "cell_type": "markdown",
      "source": [
        "1. It's a tabular representation of data for these five individuals."
      ],
      "metadata": {
        "id": "Ssah8qs1pDt8"
      }
    },
    {
      "cell_type": "code",
      "source": [
        "df.head().style.background_gradient(cmap='coolwarm')"
      ],
      "metadata": {
        "colab": {
          "base_uri": "https://localhost:8080/",
          "height": 206
        },
        "id": "af2vAvCOoieu",
        "outputId": "6f04525d-3899-48bb-956a-f8023a3ee337"
      },
      "execution_count": 6,
      "outputs": [
        {
          "output_type": "execute_result",
          "data": {
            "text/plain": [
              "<pandas.io.formats.style.Styler at 0x7c9500aefe50>"
            ],
            "text/html": [
              "<style type=\"text/css\">\n",
              "#T_36037_row0_col0 {\n",
              "  background-color: #5a78e4;\n",
              "  color: #f1f1f1;\n",
              "}\n",
              "#T_36037_row0_col2, #T_36037_row0_col3, #T_36037_row0_col4, #T_36037_row1_col4, #T_36037_row2_col4, #T_36037_row3_col0, #T_36037_row3_col4, #T_36037_row4_col2, #T_36037_row4_col4 {\n",
              "  background-color: #3b4cc0;\n",
              "  color: #f1f1f1;\n",
              "}\n",
              "#T_36037_row1_col0, #T_36037_row1_col2, #T_36037_row4_col3 {\n",
              "  background-color: #b40426;\n",
              "  color: #f1f1f1;\n",
              "}\n",
              "#T_36037_row1_col3 {\n",
              "  background-color: #3f53c6;\n",
              "  color: #f1f1f1;\n",
              "}\n",
              "#T_36037_row2_col0 {\n",
              "  background-color: #a3c2fe;\n",
              "  color: #000000;\n",
              "}\n",
              "#T_36037_row2_col2 {\n",
              "  background-color: #ccd9ed;\n",
              "  color: #000000;\n",
              "}\n",
              "#T_36037_row2_col3 {\n",
              "  background-color: #c6d6f1;\n",
              "  color: #000000;\n",
              "}\n",
              "#T_36037_row3_col2 {\n",
              "  background-color: #dddcdc;\n",
              "  color: #000000;\n",
              "}\n",
              "#T_36037_row3_col3 {\n",
              "  background-color: #f7b89c;\n",
              "  color: #000000;\n",
              "}\n",
              "#T_36037_row4_col0 {\n",
              "  background-color: #c0282f;\n",
              "  color: #f1f1f1;\n",
              "}\n",
              "</style>\n",
              "<table id=\"T_36037\" class=\"dataframe\">\n",
              "  <thead>\n",
              "    <tr>\n",
              "      <th class=\"blank level0\" >&nbsp;</th>\n",
              "      <th id=\"T_36037_level0_col0\" class=\"col_heading level0 col0\" >User ID</th>\n",
              "      <th id=\"T_36037_level0_col1\" class=\"col_heading level0 col1\" >Gender</th>\n",
              "      <th id=\"T_36037_level0_col2\" class=\"col_heading level0 col2\" >Age</th>\n",
              "      <th id=\"T_36037_level0_col3\" class=\"col_heading level0 col3\" >EstimatedSalary</th>\n",
              "      <th id=\"T_36037_level0_col4\" class=\"col_heading level0 col4\" >Purchased</th>\n",
              "    </tr>\n",
              "  </thead>\n",
              "  <tbody>\n",
              "    <tr>\n",
              "      <th id=\"T_36037_level0_row0\" class=\"row_heading level0 row0\" >0</th>\n",
              "      <td id=\"T_36037_row0_col0\" class=\"data row0 col0\" >15624510</td>\n",
              "      <td id=\"T_36037_row0_col1\" class=\"data row0 col1\" >Male</td>\n",
              "      <td id=\"T_36037_row0_col2\" class=\"data row0 col2\" >19</td>\n",
              "      <td id=\"T_36037_row0_col3\" class=\"data row0 col3\" >19000</td>\n",
              "      <td id=\"T_36037_row0_col4\" class=\"data row0 col4\" >0</td>\n",
              "    </tr>\n",
              "    <tr>\n",
              "      <th id=\"T_36037_level0_row1\" class=\"row_heading level0 row1\" >1</th>\n",
              "      <td id=\"T_36037_row1_col0\" class=\"data row1 col0\" >15810944</td>\n",
              "      <td id=\"T_36037_row1_col1\" class=\"data row1 col1\" >Male</td>\n",
              "      <td id=\"T_36037_row1_col2\" class=\"data row1 col2\" >35</td>\n",
              "      <td id=\"T_36037_row1_col3\" class=\"data row1 col3\" >20000</td>\n",
              "      <td id=\"T_36037_row1_col4\" class=\"data row1 col4\" >0</td>\n",
              "    </tr>\n",
              "    <tr>\n",
              "      <th id=\"T_36037_level0_row2\" class=\"row_heading level0 row2\" >2</th>\n",
              "      <td id=\"T_36037_row2_col0\" class=\"data row2 col0\" >15668575</td>\n",
              "      <td id=\"T_36037_row2_col1\" class=\"data row2 col1\" >Female</td>\n",
              "      <td id=\"T_36037_row2_col2\" class=\"data row2 col2\" >26</td>\n",
              "      <td id=\"T_36037_row2_col3\" class=\"data row2 col3\" >43000</td>\n",
              "      <td id=\"T_36037_row2_col4\" class=\"data row2 col4\" >0</td>\n",
              "    </tr>\n",
              "    <tr>\n",
              "      <th id=\"T_36037_level0_row3\" class=\"row_heading level0 row3\" >3</th>\n",
              "      <td id=\"T_36037_row3_col0\" class=\"data row3 col0\" >15603246</td>\n",
              "      <td id=\"T_36037_row3_col1\" class=\"data row3 col1\" >Female</td>\n",
              "      <td id=\"T_36037_row3_col2\" class=\"data row3 col2\" >27</td>\n",
              "      <td id=\"T_36037_row3_col3\" class=\"data row3 col3\" >57000</td>\n",
              "      <td id=\"T_36037_row3_col4\" class=\"data row3 col4\" >0</td>\n",
              "    </tr>\n",
              "    <tr>\n",
              "      <th id=\"T_36037_level0_row4\" class=\"row_heading level0 row4\" >4</th>\n",
              "      <td id=\"T_36037_row4_col0\" class=\"data row4 col0\" >15804002</td>\n",
              "      <td id=\"T_36037_row4_col1\" class=\"data row4 col1\" >Male</td>\n",
              "      <td id=\"T_36037_row4_col2\" class=\"data row4 col2\" >19</td>\n",
              "      <td id=\"T_36037_row4_col3\" class=\"data row4 col3\" >76000</td>\n",
              "      <td id=\"T_36037_row4_col4\" class=\"data row4 col4\" >0</td>\n",
              "    </tr>\n",
              "  </tbody>\n",
              "</table>\n"
            ]
          },
          "metadata": {},
          "execution_count": 6
        }
      ]
    },
    {
      "cell_type": "markdown",
      "source": [
        "1. The .describe() function provides statistical summary data like mean, min, max, etc., for each column, and .T transposes the result, so the statistics are shown for each column."
      ],
      "metadata": {
        "id": "xGgHyiKypMZh"
      }
    },
    {
      "cell_type": "code",
      "source": [
        "df.describe().T.style.background_gradient(cmap='coolwarm')"
      ],
      "metadata": {
        "colab": {
          "base_uri": "https://localhost:8080/",
          "height": 195
        },
        "id": "gYEDeKtlosrg",
        "outputId": "b63b5ef2-be43-4d6b-d459-b6b5e8bba9c7"
      },
      "execution_count": 7,
      "outputs": [
        {
          "output_type": "execute_result",
          "data": {
            "text/plain": [
              "<pandas.io.formats.style.Styler at 0x7c9544157430>"
            ],
            "text/html": [
              "<style type=\"text/css\">\n",
              "#T_9d31c_row0_col0, #T_9d31c_row1_col0, #T_9d31c_row1_col1, #T_9d31c_row1_col2, #T_9d31c_row1_col3, #T_9d31c_row1_col4, #T_9d31c_row1_col5, #T_9d31c_row1_col6, #T_9d31c_row1_col7, #T_9d31c_row2_col0, #T_9d31c_row2_col3, #T_9d31c_row2_col4, #T_9d31c_row3_col0, #T_9d31c_row3_col1, #T_9d31c_row3_col2, #T_9d31c_row3_col3, #T_9d31c_row3_col4, #T_9d31c_row3_col5, #T_9d31c_row3_col6, #T_9d31c_row3_col7 {\n",
              "  background-color: #3b4cc0;\n",
              "  color: #f1f1f1;\n",
              "}\n",
              "#T_9d31c_row0_col1, #T_9d31c_row0_col2, #T_9d31c_row0_col3, #T_9d31c_row0_col4, #T_9d31c_row0_col5, #T_9d31c_row0_col6, #T_9d31c_row0_col7 {\n",
              "  background-color: #b40426;\n",
              "  color: #f1f1f1;\n",
              "}\n",
              "#T_9d31c_row2_col1, #T_9d31c_row2_col5, #T_9d31c_row2_col6 {\n",
              "  background-color: #3c4ec2;\n",
              "  color: #f1f1f1;\n",
              "}\n",
              "#T_9d31c_row2_col2 {\n",
              "  background-color: #d6dce4;\n",
              "  color: #000000;\n",
              "}\n",
              "#T_9d31c_row2_col7 {\n",
              "  background-color: #3d50c3;\n",
              "  color: #f1f1f1;\n",
              "}\n",
              "</style>\n",
              "<table id=\"T_9d31c\" class=\"dataframe\">\n",
              "  <thead>\n",
              "    <tr>\n",
              "      <th class=\"blank level0\" >&nbsp;</th>\n",
              "      <th id=\"T_9d31c_level0_col0\" class=\"col_heading level0 col0\" >count</th>\n",
              "      <th id=\"T_9d31c_level0_col1\" class=\"col_heading level0 col1\" >mean</th>\n",
              "      <th id=\"T_9d31c_level0_col2\" class=\"col_heading level0 col2\" >std</th>\n",
              "      <th id=\"T_9d31c_level0_col3\" class=\"col_heading level0 col3\" >min</th>\n",
              "      <th id=\"T_9d31c_level0_col4\" class=\"col_heading level0 col4\" >25%</th>\n",
              "      <th id=\"T_9d31c_level0_col5\" class=\"col_heading level0 col5\" >50%</th>\n",
              "      <th id=\"T_9d31c_level0_col6\" class=\"col_heading level0 col6\" >75%</th>\n",
              "      <th id=\"T_9d31c_level0_col7\" class=\"col_heading level0 col7\" >max</th>\n",
              "    </tr>\n",
              "  </thead>\n",
              "  <tbody>\n",
              "    <tr>\n",
              "      <th id=\"T_9d31c_level0_row0\" class=\"row_heading level0 row0\" >User ID</th>\n",
              "      <td id=\"T_9d31c_row0_col0\" class=\"data row0 col0\" >400.000000</td>\n",
              "      <td id=\"T_9d31c_row0_col1\" class=\"data row0 col1\" >15691539.757500</td>\n",
              "      <td id=\"T_9d31c_row0_col2\" class=\"data row0 col2\" >71658.321581</td>\n",
              "      <td id=\"T_9d31c_row0_col3\" class=\"data row0 col3\" >15566689.000000</td>\n",
              "      <td id=\"T_9d31c_row0_col4\" class=\"data row0 col4\" >15626763.750000</td>\n",
              "      <td id=\"T_9d31c_row0_col5\" class=\"data row0 col5\" >15694341.500000</td>\n",
              "      <td id=\"T_9d31c_row0_col6\" class=\"data row0 col6\" >15750363.000000</td>\n",
              "      <td id=\"T_9d31c_row0_col7\" class=\"data row0 col7\" >15815236.000000</td>\n",
              "    </tr>\n",
              "    <tr>\n",
              "      <th id=\"T_9d31c_level0_row1\" class=\"row_heading level0 row1\" >Age</th>\n",
              "      <td id=\"T_9d31c_row1_col0\" class=\"data row1 col0\" >400.000000</td>\n",
              "      <td id=\"T_9d31c_row1_col1\" class=\"data row1 col1\" >37.655000</td>\n",
              "      <td id=\"T_9d31c_row1_col2\" class=\"data row1 col2\" >10.482877</td>\n",
              "      <td id=\"T_9d31c_row1_col3\" class=\"data row1 col3\" >18.000000</td>\n",
              "      <td id=\"T_9d31c_row1_col4\" class=\"data row1 col4\" >29.750000</td>\n",
              "      <td id=\"T_9d31c_row1_col5\" class=\"data row1 col5\" >37.000000</td>\n",
              "      <td id=\"T_9d31c_row1_col6\" class=\"data row1 col6\" >46.000000</td>\n",
              "      <td id=\"T_9d31c_row1_col7\" class=\"data row1 col7\" >60.000000</td>\n",
              "    </tr>\n",
              "    <tr>\n",
              "      <th id=\"T_9d31c_level0_row2\" class=\"row_heading level0 row2\" >EstimatedSalary</th>\n",
              "      <td id=\"T_9d31c_row2_col0\" class=\"data row2 col0\" >400.000000</td>\n",
              "      <td id=\"T_9d31c_row2_col1\" class=\"data row2 col1\" >69742.500000</td>\n",
              "      <td id=\"T_9d31c_row2_col2\" class=\"data row2 col2\" >34096.960282</td>\n",
              "      <td id=\"T_9d31c_row2_col3\" class=\"data row2 col3\" >15000.000000</td>\n",
              "      <td id=\"T_9d31c_row2_col4\" class=\"data row2 col4\" >43000.000000</td>\n",
              "      <td id=\"T_9d31c_row2_col5\" class=\"data row2 col5\" >70000.000000</td>\n",
              "      <td id=\"T_9d31c_row2_col6\" class=\"data row2 col6\" >88000.000000</td>\n",
              "      <td id=\"T_9d31c_row2_col7\" class=\"data row2 col7\" >150000.000000</td>\n",
              "    </tr>\n",
              "    <tr>\n",
              "      <th id=\"T_9d31c_level0_row3\" class=\"row_heading level0 row3\" >Purchased</th>\n",
              "      <td id=\"T_9d31c_row3_col0\" class=\"data row3 col0\" >400.000000</td>\n",
              "      <td id=\"T_9d31c_row3_col1\" class=\"data row3 col1\" >0.357500</td>\n",
              "      <td id=\"T_9d31c_row3_col2\" class=\"data row3 col2\" >0.479864</td>\n",
              "      <td id=\"T_9d31c_row3_col3\" class=\"data row3 col3\" >0.000000</td>\n",
              "      <td id=\"T_9d31c_row3_col4\" class=\"data row3 col4\" >0.000000</td>\n",
              "      <td id=\"T_9d31c_row3_col5\" class=\"data row3 col5\" >0.000000</td>\n",
              "      <td id=\"T_9d31c_row3_col6\" class=\"data row3 col6\" >1.000000</td>\n",
              "      <td id=\"T_9d31c_row3_col7\" class=\"data row3 col7\" >1.000000</td>\n",
              "    </tr>\n",
              "  </tbody>\n",
              "</table>\n"
            ]
          },
          "metadata": {},
          "execution_count": 7
        }
      ]
    },
    {
      "cell_type": "markdown",
      "source": [
        "1. This code counts the number of duplicated rows in a DataFrame named df.\n",
        "It tells you how many rows in the DataFrame are identical to one or more other rows."
      ],
      "metadata": {
        "id": "otTrxquGpS8V"
      }
    },
    {
      "cell_type": "code",
      "source": [
        "df.duplicated().sum()"
      ],
      "metadata": {
        "colab": {
          "base_uri": "https://localhost:8080/"
        },
        "id": "ea4BS-oUpHdK",
        "outputId": "323a68dc-13d7-4753-840a-a878fc8ffccb"
      },
      "execution_count": 8,
      "outputs": [
        {
          "output_type": "execute_result",
          "data": {
            "text/plain": [
              "0"
            ]
          },
          "metadata": {},
          "execution_count": 8
        }
      ]
    },
    {
      "cell_type": "markdown",
      "source": [
        "1. This code counts the number of missing (null) values in each column of a DataFrame named df. It shows how many empty or undefined values exist in each column."
      ],
      "metadata": {
        "id": "S5RVYrKlpeog"
      }
    },
    {
      "cell_type": "code",
      "source": [
        "df.isnull().sum()\n"
      ],
      "metadata": {
        "colab": {
          "base_uri": "https://localhost:8080/"
        },
        "id": "ZYDV1jlepR8R",
        "outputId": "a50cb4ed-55a1-439b-ac8f-e33af1ee797d"
      },
      "execution_count": 9,
      "outputs": [
        {
          "output_type": "execute_result",
          "data": {
            "text/plain": [
              "User ID            0\n",
              "Gender             0\n",
              "Age                0\n",
              "EstimatedSalary    0\n",
              "Purchased          0\n",
              "dtype: int64"
            ]
          },
          "metadata": {},
          "execution_count": 9
        }
      ]
    },
    {
      "cell_type": "markdown",
      "source": [
        "1. Positive values indicate variables tend to increase together, with 1.000 being a perfect correlation.\n",
        "2. Negative values indicate variables tend to change in opposite directions, with -1.000 being a perfect negative correlation.\n",
        "3. Values close to 0 mean weak or no relationship between variables.\n",
        "\n",
        "\"Age\" and \"Purchased\" have a moderate positive relationship (0.622), meaning that as age increases, the likelihood of a purchase also tends to increase.\n",
        "\n",
        "\n",
        "\n"
      ],
      "metadata": {
        "id": "ekjvMCLwqq8w"
      }
    },
    {
      "cell_type": "code",
      "source": [
        "plt.figure(figsize=(7, 5))\n",
        "sns.heatmap(df.corr(), annot=True, cmap='Dark2')\n",
        "plt.show()"
      ],
      "metadata": {
        "colab": {
          "base_uri": "https://localhost:8080/",
          "height": 507
        },
        "id": "xClnvRdGpfnq",
        "outputId": "3e677dfe-c457-40d8-de7d-17327aae1723"
      },
      "execution_count": 12,
      "outputs": [
        {
          "output_type": "stream",
          "name": "stderr",
          "text": [
            "<ipython-input-12-4069cbdb3206>:2: FutureWarning: The default value of numeric_only in DataFrame.corr is deprecated. In a future version, it will default to False. Select only valid columns or specify the value of numeric_only to silence this warning.\n",
            "  sns.heatmap(df.corr(), annot=True, cmap='Dark2')\n"
          ]
        },
        {
          "output_type": "display_data",
          "data": {
            "text/plain": [
              "<Figure size 700x500 with 2 Axes>"
            ],
            "image/png": "[encoded data removed]"
          },
          "metadata": {}
        }
      ]
    },
    {
      "cell_type": "markdown",
      "source": [
        "1. This code removes the column named \"User ID\" from the `DataFrame`. The inplace=True parameter means that the change is made directly to the DataFrame without the need to create a new DataFrame."
      ],
      "metadata": {
        "id": "bOHESlB4q8zv"
      }
    },
    {
      "cell_type": "code",
      "source": [
        "df.drop('User ID', axis = 1, inplace=True)"
      ],
      "metadata": {
        "id": "SeQkUXyRps3t"
      },
      "execution_count": 18,
      "outputs": []
    },
    {
      "cell_type": "markdown",
      "source": [
        "1. This code tells you how many occurrences there are of each unique value in the \"Purchased\" column of your DataFrame.\n",
        "\n",
        "There are 257 instances where \"Purchased\" is 0.\n",
        "There are 143 instances where \"Purchased\" is 1.\n",
        "It's a count of how many times each value appears in the \"Purchased\" column."
      ],
      "metadata": {
        "id": "adrDVEJbrNA3"
      }
    },
    {
      "cell_type": "code",
      "source": [
        "df['Purchased'].value_counts()"
      ],
      "metadata": {
        "colab": {
          "base_uri": "https://localhost:8080/"
        },
        "id": "lHND02evp4QP",
        "outputId": "42f7b017-bf29-4555-eb84-7aaa4552423c"
      },
      "execution_count": 19,
      "outputs": [
        {
          "output_type": "execute_result",
          "data": {
            "text/plain": [
              "0    257\n",
              "1    143\n",
              "Name: Purchased, dtype: int64"
            ]
          },
          "metadata": {},
          "execution_count": 19
        }
      ]
    },
    {
      "cell_type": "code",
      "source": [
        "plt.figure(figsize=(5, 3))\n",
        "sns.catplot(x='Purchased', col='Gender', kind='count', data=df,palette=\"Dark2\");\n",
        "plt.show()"
      ],
      "metadata": {
        "colab": {
          "base_uri": "https://localhost:8080/",
          "height": 478
        },
        "id": "9z45PuWArFN0",
        "outputId": "a76ff145-3974-466a-9317-8a1fa898ce27"
      },
      "execution_count": 22,
      "outputs": [
        {
          "output_type": "display_data",
          "data": {
            "text/plain": [
              "<Figure size 500x300 with 0 Axes>"
            ]
          },
          "metadata": {}
        },
        {
          "output_type": "display_data",
          "data": {
            "text/plain": [
              "<Figure size 1000x500 with 2 Axes>"
            ],
            "image/png": "[encoded data removed]"
          },
          "metadata": {}
        }
      ]
    },
    {
      "cell_type": "markdown",
      "source": [
        "1. This code creates a table (cross-tabulation) that shows the percentage of \"Purchased\" values (0 or 1) for each category of \"Gender\" in a DataFrame (df). The background color of the cells is shaded based on the values using the 'crest' color scheme.\n",
        "\n",
        "37.74% of female customers have purchased a product from social networking advertisment where as only 33.67% of male customers purchased from social networking advertisment."
      ],
      "metadata": {
        "id": "Cq0HKr-1riMJ"
      }
    },
    {
      "cell_type": "code",
      "source": [
        "pd.crosstab(df.Gender,df.Purchased,normalize = \"index\" ).style.background_gradient(cmap='crest')"
      ],
      "metadata": {
        "colab": {
          "base_uri": "https://localhost:8080/",
          "height": 143
        },
        "id": "naz5sHmVrWDv",
        "outputId": "91977a29-74c2-437e-a264-14a5a2acffcd"
      },
      "execution_count": 23,
      "outputs": [
        {
          "output_type": "execute_result",
          "data": {
            "text/plain": [
              "<pandas.io.formats.style.Styler at 0x7c94fca30cd0>"
            ],
            "text/html": [
              "<style type=\"text/css\">\n",
              "#T_a5764_row0_col0, #T_a5764_row1_col1 {\n",
              "  background-color: #a5cd90;\n",
              "  color: #000000;\n",
              "}\n",
              "#T_a5764_row0_col1, #T_a5764_row1_col0 {\n",
              "  background-color: #2c3172;\n",
              "  color: #f1f1f1;\n",
              "}\n",
              "</style>\n",
              "<table id=\"T_a5764\" class=\"dataframe\">\n",
              "  <thead>\n",
              "    <tr>\n",
              "      <th class=\"index_name level0\" >Purchased</th>\n",
              "      <th id=\"T_a5764_level0_col0\" class=\"col_heading level0 col0\" >0</th>\n",
              "      <th id=\"T_a5764_level0_col1\" class=\"col_heading level0 col1\" >1</th>\n",
              "    </tr>\n",
              "    <tr>\n",
              "      <th class=\"index_name level0\" >Gender</th>\n",
              "      <th class=\"blank col0\" >&nbsp;</th>\n",
              "      <th class=\"blank col1\" >&nbsp;</th>\n",
              "    </tr>\n",
              "  </thead>\n",
              "  <tbody>\n",
              "    <tr>\n",
              "      <th id=\"T_a5764_level0_row0\" class=\"row_heading level0 row0\" >Female</th>\n",
              "      <td id=\"T_a5764_row0_col0\" class=\"data row0 col0\" >0.622549</td>\n",
              "      <td id=\"T_a5764_row0_col1\" class=\"data row0 col1\" >0.377451</td>\n",
              "    </tr>\n",
              "    <tr>\n",
              "      <th id=\"T_a5764_level0_row1\" class=\"row_heading level0 row1\" >Male</th>\n",
              "      <td id=\"T_a5764_row1_col0\" class=\"data row1 col0\" >0.663265</td>\n",
              "      <td id=\"T_a5764_row1_col1\" class=\"data row1 col1\" >0.336735</td>\n",
              "    </tr>\n",
              "  </tbody>\n",
              "</table>\n"
            ]
          },
          "metadata": {},
          "execution_count": 23
        }
      ]
    },
    {
      "cell_type": "markdown",
      "source": [
        "The data is skewed towards the age group of 35-38, indicating that more people in the dataset fall within this age range. Similarly, the estimated salary data is skewed towards the range of 70,000 to 90,000, meaning that many individuals in the dataset have estimated salaries within this range. Skewness in the data distribution implies that certain values or ranges are more common or prevalent."
      ],
      "metadata": {
        "id": "N3kCF5_gr412"
      }
    },
    {
      "cell_type": "code",
      "source": [
        "sns.histplot(df['Age'],kde=True,color='purple',bins=10)"
      ],
      "metadata": {
        "colab": {
          "base_uri": "https://localhost:8080/",
          "height": 469
        },
        "id": "CSxsCqqLrgaj",
        "outputId": "c95033f3-04bf-44ff-c555-1a71b889154a"
      },
      "execution_count": 25,
      "outputs": [
        {
          "output_type": "execute_result",
          "data": {
            "text/plain": [
              "<Axes: xlabel='Age', ylabel='Count'>"
            ]
          },
          "metadata": {},
          "execution_count": 25
        },
        {
          "output_type": "display_data",
          "data": {
            "text/plain": [
              "<Figure size 640x480 with 1 Axes>"
            ],
            "image/png": "[encoded data removed]"
          },
          "metadata": {}
        }
      ]
    },
    {
      "cell_type": "code",
      "source": [
        "sns.histplot(df['EstimatedSalary'],kde=True,color='purple',bins=10)"
      ],
      "metadata": {
        "colab": {
          "base_uri": "https://localhost:8080/",
          "height": 467
        },
        "id": "WN4SKb4LrrKH",
        "outputId": "9702afe6-9ea0-4af7-8e2d-7607eadbf7b3"
      },
      "execution_count": 27,
      "outputs": [
        {
          "output_type": "execute_result",
          "data": {
            "text/plain": [
              "<Axes: xlabel='EstimatedSalary', ylabel='Count'>"
            ]
          },
          "metadata": {},
          "execution_count": 27
        },
        {
          "output_type": "display_data",
          "data": {
            "text/plain": [
              "<Figure size 640x480 with 1 Axes>"
            ],
            "image/png": "[encoded data removed]"
          },
          "metadata": {}
        }
      ]
    },
    {
      "cell_type": "code",
      "source": [
        "df = pd.get_dummies(df, columns = ['Gender'], drop_first=True)\n",
        "df"
      ],
      "metadata": {
        "colab": {
          "base_uri": "https://localhost:8080/",
          "height": 424
        },
        "id": "xkIV8fqAsH9l",
        "outputId": "79eba88f-912e-450c-f865-4a4d7abad6b1"
      },
      "execution_count": 30,
      "outputs": [
        {
          "output_type": "execute_result",
          "data": {
            "text/plain": [
              "     Age  EstimatedSalary  Purchased  Gender_Male\n",
              "0     19            19000          0            1\n",
              "1     35            20000          0            1\n",
              "2     26            43000          0            0\n",
              "3     27            57000          0            0\n",
              "4     19            76000          0            1\n",
              "..   ...              ...        ...          ...\n",
              "395   46            41000          1            0\n",
              "396   51            23000          1            1\n",
              "397   50            20000          1            0\n",
              "398   36            33000          0            1\n",
              "399   49            36000          1            0\n",
              "\n",
              "[400 rows x 4 columns]"
            ],
            "text/html": [
              "\n",
              "  <div id=\"df-fc9cf7a0-7413-4f8a-a960-7436f56a1c7c\" class=\"colab-df-container\">\n",
              "    <div>\n",
              "<style scoped>\n",
              "    .dataframe tbody tr th:only-of-type {\n",
              "        vertical-align: middle;\n",
              "    }\n",
              "\n",
              "    .dataframe tbody tr th {\n",
              "        vertical-align: top;\n",
              "    }\n",
              "\n",
              "    .dataframe thead th {\n",
              "        text-align: right;\n",
              "    }\n",
              "</style>\n",
              "<table border=\"1\" class=\"dataframe\">\n",
              "  <thead>\n",
              "    <tr style=\"text-align: right;\">\n",
              "      <th></th>\n",
              "      <th>Age</th>\n",
              "      <th>EstimatedSalary</th>\n",
              "      <th>Purchased</th>\n",
              "      <th>Gender_Male</th>\n",
              "    </tr>\n",
              "  </thead>\n",
              "  <tbody>\n",
              "    <tr>\n",
              "      <th>0</th>\n",
              "      <td>19</td>\n",
              "      <td>19000</td>\n",
              "      <td>0</td>\n",
              "      <td>1</td>\n",
              "    </tr>\n",
              "    <tr>\n",
              "      <th>1</th>\n",
              "      <td>35</td>\n",
              "      <td>20000</td>\n",
              "      <td>0</td>\n",
              "      <td>1</td>\n",
              "    </tr>\n",
              "    <tr>\n",
              "      <th>2</th>\n",
              "      <td>26</td>\n",
              "      <td>43000</td>\n",
              "      <td>0</td>\n",
              "      <td>0</td>\n",
              "    </tr>\n",
              "    <tr>\n",
              "      <th>3</th>\n",
              "      <td>27</td>\n",
              "      <td>57000</td>\n",
              "      <td>0</td>\n",
              "      <td>0</td>\n",
              "    </tr>\n",
              "    <tr>\n",
              "      <th>4</th>\n",
              "      <td>19</td>\n",
              "      <td>76000</td>\n",
              "      <td>0</td>\n",
              "      <td>1</td>\n",
              "    </tr>\n",
              "    <tr>\n",
              "      <th>...</th>\n",
              "      <td>...</td>\n",
              "      <td>...</td>\n",
              "      <td>...</td>\n",
              "      <td>...</td>\n",
              "    </tr>\n",
              "    <tr>\n",
              "      <th>395</th>\n",
              "      <td>46</td>\n",
              "      <td>41000</td>\n",
              "      <td>1</td>\n",
              "      <td>0</td>\n",
              "    </tr>\n",
              "    <tr>\n",
              "      <th>396</th>\n",
              "      <td>51</td>\n",
              "      <td>23000</td>\n",
              "      <td>1</td>\n",
              "      <td>1</td>\n",
              "    </tr>\n",
              "    <tr>\n",
              "      <th>397</th>\n",
              "      <td>50</td>\n",
              "      <td>20000</td>\n",
              "      <td>1</td>\n",
              "      <td>0</td>\n",
              "    </tr>\n",
              "    <tr>\n",
              "      <th>398</th>\n",
              "      <td>36</td>\n",
              "      <td>33000</td>\n",
              "      <td>0</td>\n",
              "      <td>1</td>\n",
              "    </tr>\n",
              "    <tr>\n",
              "      <th>399</th>\n",
              "      <td>49</td>\n",
              "      <td>36000</td>\n",
              "      <td>1</td>\n",
              "      <td>0</td>\n",
              "    </tr>\n",
              "  </tbody>\n",
              "</table>\n",
              "<p>400 rows × 4 columns</p>\n",
              "</div>\n",
              "    <div class=\"colab-df-buttons\">\n",
              "\n",
              "  <div class=\"colab-df-container\">\n",
              "    <button class=\"colab-df-convert\" onclick=\"convertToInteractive('df-fc9cf7a0-7413-4f8a-a960-7436f56a1c7c')\"\n",
              "            title=\"Convert this dataframe to an interactive table.\"\n",
              "            style=\"display:none;\">\n",
              "\n",
              "  <svg xmlns=\"http://www.w3.org/2000/svg\" height=\"24px\" viewBox=\"0 -960 960 960\">\n",
              "    <path d=\"M120-120v-720h720v720H120Zm60-500h600v-160H180v160Zm220 220h160v-160H400v160Zm0 220h160v-160H400v160ZM180-400h160v-160H180v160Zm440 0h160v-160H620v160ZM180-180h160v-160H180v160Zm440 0h160v-160H620v160Z\"/>\n",
              "  </svg>\n",
              "    </button>\n",
              "\n",
              "  <style>\n",
              "    .colab-df-container {\n",
              "      display:flex;\n",
              "      gap: 12px;\n",
              "    }\n",
              "\n",
              "    .colab-df-convert {\n",
              "      background-color: #E8F0FE;\n",
              "      border: none;\n",
              "      border-radius: 50%;\n",
              "      cursor: pointer;\n",
              "      display: none;\n",
              "      fill: #1967D2;\n",
              "      height: 32px;\n",
              "      padding: 0 0 0 0;\n",
              "      width: 32px;\n",
              "    }\n",
              "\n",
              "    .colab-df-convert:hover {\n",
              "      background-color: #E2EBFA;\n",
              "      box-shadow: 0px 1px 2px rgba(60, 64, 67, 0.3), 0px 1px 3px 1px rgba(60, 64, 67, 0.15);\n",
              "      fill: #174EA6;\n",
              "    }\n",
              "\n",
              "    .colab-df-buttons div {\n",
              "      margin-bottom: 4px;\n",
              "    }\n",
              "\n",
              "    [theme=dark] .colab-df-convert {\n",
              "      background-color: #3B4455;\n",
              "      fill: #D2E3FC;\n",
              "    }\n",
              "\n",
              "    [theme=dark] .colab-df-convert:hover {\n",
              "      background-color: #434B5C;\n",
              "      box-shadow: 0px 1px 3px 1px rgba(0, 0, 0, 0.15);\n",
              "      filter: drop-shadow(0px 1px 2px rgba(0, 0, 0, 0.3));\n",
              "      fill: #FFFFFF;\n",
              "    }\n",
              "  </style>\n",
              "\n",
              "    <script>\n",
              "      const buttonEl =\n",
              "        document.querySelector('#df-fc9cf7a0-7413-4f8a-a960-7436f56a1c7c button.colab-df-convert');\n",
              "      buttonEl.style.display =\n",
              "        google.colab.kernel.accessAllowed ? 'block' : 'none';\n",
              "\n",
              "      async function convertToInteractive(key) {\n",
              "        const element = document.querySelector('#df-fc9cf7a0-7413-4f8a-a960-7436f56a1c7c');\n",
              "        const dataTable =\n",
              "          await google.colab.kernel.invokeFunction('convertToInteractive',\n",
              "                                                    [key], {});\n",
              "        if (!dataTable) return;\n",
              "\n",
              "        const docLinkHtml = 'Like what you see? Visit the ' +\n",
              "          '<a target=\"_blank\" href=https://colab.research.google.com/notebooks/data_table.ipynb>data table notebook</a>'\n",
              "          + ' to learn more about interactive tables.';\n",
              "        element.innerHTML = '';\n",
              "        dataTable['output_type'] = 'display_data';\n",
              "        await google.colab.output.renderOutput(dataTable, element);\n",
              "        const docLink = document.createElement('div');\n",
              "        docLink.innerHTML = docLinkHtml;\n",
              "        element.appendChild(docLink);\n",
              "      }\n",
              "    </script>\n",
              "  </div>\n",
              "\n",
              "\n",
              "<div id=\"df-2fbcee1f-b380-4169-bd29-92e482839ae7\">\n",
              "  <button class=\"colab-df-quickchart\" onclick=\"quickchart('df-2fbcee1f-b380-4169-bd29-92e482839ae7')\"\n",
              "            title=\"Suggest charts.\"\n",
              "            style=\"display:none;\">\n",
              "\n",
              "<svg xmlns=\"http://www.w3.org/2000/svg\" height=\"24px\"viewBox=\"0 0 24 24\"\n",
              "     width=\"24px\">\n",
              "    <g>\n",
              "        <path d=\"M19 3H5c-1.1 0-2 .9-2 2v14c0 1.1.9 2 2 2h14c1.1 0 2-.9 2-2V5c0-1.1-.9-2-2-2zM9 17H7v-7h2v7zm4 0h-2V7h2v10zm4 0h-2v-4h2v4z\"/>\n",
              "    </g>\n",
              "</svg>\n",
              "  </button>\n",
              "\n",
              "<style>\n",
              "  .colab-df-quickchart {\n",
              "      --bg-color: #E8F0FE;\n",
              "      --fill-color: #1967D2;\n",
              "      --hover-bg-color: #E2EBFA;\n",
              "      --hover-fill-color: #174EA6;\n",
              "      --disabled-fill-color: #AAA;\n",
              "      --disabled-bg-color: #DDD;\n",
              "  }\n",
              "\n",
              "  [theme=dark] .colab-df-quickchart {\n",
              "      --bg-color: #3B4455;\n",
              "      --fill-color: #D2E3FC;\n",
              "      --hover-bg-color: #434B5C;\n",
              "      --hover-fill-color: #FFFFFF;\n",
              "      --disabled-bg-color: #3B4455;\n",
              "      --disabled-fill-color: #666;\n",
              "  }\n",
              "\n",
              "  .colab-df-quickchart {\n",
              "    background-color: var(--bg-color);\n",
              "    border: none;\n",
              "    border-radius: 50%;\n",
              "    cursor: pointer;\n",
              "    display: none;\n",
              "    fill: var(--fill-color);\n",
              "    height: 32px;\n",
              "    padding: 0;\n",
              "    width: 32px;\n",
              "  }\n",
              "\n",
              "  .colab-df-quickchart:hover {\n",
              "    background-color: var(--hover-bg-color);\n",
              "    box-shadow: 0 1px 2px rgba(60, 64, 67, 0.3), 0 1px 3px 1px rgba(60, 64, 67, 0.15);\n",
              "    fill: var(--button-hover-fill-color);\n",
              "  }\n",
              "\n",
              "  .colab-df-quickchart-complete:disabled,\n",
              "  .colab-df-quickchart-complete:disabled:hover {\n",
              "    background-color: var(--disabled-bg-color);\n",
              "    fill: var(--disabled-fill-color);\n",
              "    box-shadow: none;\n",
              "  }\n",
              "\n",
              "  .colab-df-spinner {\n",
              "    border: 2px solid var(--fill-color);\n",
              "    border-color: transparent;\n",
              "    border-bottom-color: var(--fill-color);\n",
              "    animation:\n",
              "      spin 1s steps(1) infinite;\n",
              "  }\n",
              "\n",
              "  @keyframes spin {\n",
              "    0% {\n",
              "      border-color: transparent;\n",
              "      border-bottom-color: var(--fill-color);\n",
              "      border-left-color: var(--fill-color);\n",
              "    }\n",
              "    20% {\n",
              "      border-color: transparent;\n",
              "      border-left-color: var(--fill-color);\n",
              "      border-top-color: var(--fill-color);\n",
              "    }\n",
              "    30% {\n",
              "      border-color: transparent;\n",
              "      border-left-color: var(--fill-color);\n",
              "      border-top-color: var(--fill-color);\n",
              "      border-right-color: var(--fill-color);\n",
              "    }\n",
              "    40% {\n",
              "      border-color: transparent;\n",
              "      border-right-color: var(--fill-color);\n",
              "      border-top-color: var(--fill-color);\n",
              "    }\n",
              "    60% {\n",
              "      border-color: transparent;\n",
              "      border-right-color: var(--fill-color);\n",
              "    }\n",
              "    80% {\n",
              "      border-color: transparent;\n",
              "      border-right-color: var(--fill-color);\n",
              "      border-bottom-color: var(--fill-color);\n",
              "    }\n",
              "    90% {\n",
              "      border-color: transparent;\n",
              "      border-bottom-color: var(--fill-color);\n",
              "    }\n",
              "  }\n",
              "</style>\n",
              "\n",
              "  <script>\n",
              "    async function quickchart(key) {\n",
              "      const quickchartButtonEl =\n",
              "        document.querySelector('#' + key + ' button');\n",
              "      quickchartButtonEl.disabled = true;  // To prevent multiple clicks.\n",
              "      quickchartButtonEl.classList.add('colab-df-spinner');\n",
              "      try {\n",
              "        const charts = await google.colab.kernel.invokeFunction(\n",
              "            'suggestCharts', [key], {});\n",
              "      } catch (error) {\n",
              "        console.error('Error during call to suggestCharts:', error);\n",
              "      }\n",
              "      quickchartButtonEl.classList.remove('colab-df-spinner');\n",
              "      quickchartButtonEl.classList.add('colab-df-quickchart-complete');\n",
              "    }\n",
              "    (() => {\n",
              "      let quickchartButtonEl =\n",
              "        document.querySelector('#df-2fbcee1f-b380-4169-bd29-92e482839ae7 button');\n",
              "      quickchartButtonEl.style.display =\n",
              "        google.colab.kernel.accessAllowed ? 'block' : 'none';\n",
              "    })();\n",
              "  </script>\n",
              "</div>\n",
              "    </div>\n",
              "  </div>\n"
            ]
          },
          "metadata": {},
          "execution_count": 30
        }
      ]
    },
    {
      "cell_type": "code",
      "source": [
        "X = df.drop(['Purchased'],axis = 1)\n",
        "y = df['Purchased']\n",
        "X_train, X_test, y_train, y_test = train_test_split(X, y, test_size = 0.25, random_state = 0)"
      ],
      "metadata": {
        "id": "cnN-Jbr6shOW"
      },
      "execution_count": 31,
      "outputs": []
    },
    {
      "cell_type": "code",
      "source": [
        "cols = X_train.columns\n",
        "cols\n",
        "sc = StandardScaler()\n",
        "X_train = sc.fit_transform(X_train)\n",
        "X_test = sc.transform(X_test)\n",
        "\n",
        "X_train = pd.DataFrame(X_train,columns=cols)\n",
        "X_test = pd.DataFrame(X_test,columns=cols)"
      ],
      "metadata": {
        "id": "nN83Eh-Lslio"
      },
      "execution_count": 33,
      "outputs": []
    },
    {
      "cell_type": "markdown",
      "source": [
        "# KNN with Minkowski and K=5"
      ],
      "metadata": {
        "id": "NscsYQSzs2nJ"
      }
    },
    {
      "cell_type": "code",
      "source": [
        "classifierKNN = KNeighborsClassifier(n_neighbors = 5, metric = 'minkowski', p = 2)\n",
        "classifierKNN.fit(X_train, y_train)\n",
        "y_pred = classifierKNN.predict(X_test)\n",
        "y_pred"
      ],
      "metadata": {
        "colab": {
          "base_uri": "https://localhost:8080/"
        },
        "id": "2laImr1ospmI",
        "outputId": "9ddf1549-f5b7-4b74-936e-1c17e22fbc15"
      },
      "execution_count": 34,
      "outputs": [
        {
          "output_type": "execute_result",
          "data": {
            "text/plain": [
              "array([0, 0, 0, 0, 0, 0, 0, 1, 0, 1, 0, 0, 0, 0, 0, 1, 0, 0, 1, 0, 0, 1,\n",
              "       0, 1, 0, 1, 0, 0, 0, 0, 0, 0, 1, 0, 0, 0, 0, 0, 0, 1, 0, 0, 0, 0,\n",
              "       1, 0, 0, 1, 0, 1, 1, 0, 0, 1, 1, 1, 0, 0, 1, 0, 0, 1, 0, 1, 0, 1,\n",
              "       0, 0, 0, 0, 1, 0, 0, 1, 0, 0, 0, 0, 1, 1, 1, 1, 0, 0, 1, 0, 0, 1,\n",
              "       1, 0, 0, 1, 0, 0, 0, 0, 0, 1, 1, 1])"
            ]
          },
          "metadata": {},
          "execution_count": 34
        }
      ]
    },
    {
      "cell_type": "code",
      "source": [
        "cm1 = confusion_matrix(y_test,y_pred)\n",
        "print(cm1)"
      ],
      "metadata": {
        "colab": {
          "base_uri": "https://localhost:8080/"
        },
        "id": "-UEz0AqasyO4",
        "outputId": "3155b668-7e61-4b6d-8768-266965a232d7"
      },
      "execution_count": 35,
      "outputs": [
        {
          "output_type": "stream",
          "name": "stdout",
          "text": [
            "[[64  4]\n",
            " [ 3 29]]\n"
          ]
        }
      ]
    },
    {
      "cell_type": "markdown",
      "source": [
        "Overall Accuracy is 93% and Precision, Recall and F1-score for predicting not purchased category is above 94% and for purchased category is close to 90%."
      ],
      "metadata": {
        "id": "SJKXs6fctDPK"
      }
    },
    {
      "cell_type": "code",
      "source": [
        "print(classification_report(y_test, y_pred))"
      ],
      "metadata": {
        "colab": {
          "base_uri": "https://localhost:8080/"
        },
        "id": "MgZJozHms9Xg",
        "outputId": "20a00dc8-2d89-49e2-bbc9-c3cd3f7f4b90"
      },
      "execution_count": 38,
      "outputs": [
        {
          "output_type": "stream",
          "name": "stdout",
          "text": [
            "              precision    recall  f1-score   support\n",
            "\n",
            "           0       0.96      0.94      0.95        68\n",
            "           1       0.88      0.91      0.89        32\n",
            "\n",
            "    accuracy                           0.93       100\n",
            "   macro avg       0.92      0.92      0.92       100\n",
            "weighted avg       0.93      0.93      0.93       100\n",
            "\n"
          ]
        }
      ]
    },
    {
      "cell_type": "markdown",
      "source": [
        "From the plot it is clear from K =5 to K =18 the error rate is lowest and K= 35 error rate is maximum."
      ],
      "metadata": {
        "id": "7QaTReEltPyb"
      }
    },
    {
      "cell_type": "code",
      "source": [
        "error_rate = []\n",
        "\n",
        "for i in range(1,40):\n",
        "\n",
        "    knn = KNeighborsClassifier(n_neighbors=i)\n",
        "    knn.fit(X_train,y_train)\n",
        "    pred_i = knn.predict(X_test)\n",
        "    error_rate.append(np.mean(pred_i != y_test))\n",
        "\n",
        "plt.figure(figsize=(5,3))\n",
        "plt.plot(range(1,40),error_rate,color='blue', linestyle='dashed', marker='X',\n",
        "         markerfacecolor='red', markersize=10)\n",
        "plt.title('Error Rate vs. K Value')\n",
        "plt.xlabel('K')\n",
        "plt.ylabel('Error Rate')"
      ],
      "metadata": {
        "colab": {
          "base_uri": "https://localhost:8080/",
          "height": 351
        },
        "id": "hrgM032dtB0R",
        "outputId": "f0d5c3df-5e6c-4bac-a127-52cf8b64c574"
      },
      "execution_count": 41,
      "outputs": [
        {
          "output_type": "execute_result",
          "data": {
            "text/plain": [
              "Text(0, 0.5, 'Error Rate')"
            ]
          },
          "metadata": {},
          "execution_count": 41
        },
        {
          "output_type": "display_data",
          "data": {
            "text/plain": [
              "<Figure size 500x300 with 1 Axes>"
            ],
            "image/png": "[encoded data removed]"
          },
          "metadata": {}
        }
      ]
    },
    {
      "cell_type": "code",
      "source": [
        "classifierKNN1 = KNeighborsClassifier(n_neighbors = 35, metric = 'minkowski', p = 2)\n",
        "classifierKNN1.fit(X_train, y_train)\n",
        "y_pred = classifierKNN1.predict(X_test)\n",
        "cm1 = confusion_matrix(y_test,y_pred)\n",
        "print(cm1)"
      ],
      "metadata": {
        "colab": {
          "base_uri": "https://localhost:8080/"
        },
        "id": "4HLStp6ZtVV8",
        "outputId": "3c8c053c-47d6-4a7c-8f76-c2c00dd65345"
      },
      "execution_count": 44,
      "outputs": [
        {
          "output_type": "stream",
          "name": "stdout",
          "text": [
            "[[65  3]\n",
            " [11 21]]\n"
          ]
        }
      ]
    },
    {
      "cell_type": "markdown",
      "source": [
        "Overall Accuracy is 86% and Precision, Recall and F1-score for predicting not purchased category is above 87% and for purchased category is close to 67%."
      ],
      "metadata": {
        "id": "0DjGtLButsnN"
      }
    },
    {
      "cell_type": "code",
      "source": [
        "print(classification_report(y_test, y_pred))"
      ],
      "metadata": {
        "colab": {
          "base_uri": "https://localhost:8080/"
        },
        "id": "4DEVoL3etfFo",
        "outputId": "e5db187d-c2e0-49c3-87bb-9b8fcc0b1349"
      },
      "execution_count": 45,
      "outputs": [
        {
          "output_type": "stream",
          "name": "stdout",
          "text": [
            "              precision    recall  f1-score   support\n",
            "\n",
            "           0       0.86      0.96      0.90        68\n",
            "           1       0.88      0.66      0.75        32\n",
            "\n",
            "    accuracy                           0.86       100\n",
            "   macro avg       0.87      0.81      0.83       100\n",
            "weighted avg       0.86      0.86      0.85       100\n",
            "\n"
          ]
        }
      ]
    },
    {
      "cell_type": "code",
      "source": [],
      "metadata": {
        "id": "t_hxIDUOtpka"
      },
      "execution_count": null,
      "outputs": []
    }
  ]
}